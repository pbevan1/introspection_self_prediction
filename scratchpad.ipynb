{
 "cells": [
  {
   "cell_type": "code",
   "execution_count": 14,
   "metadata": {},
   "outputs": [
    {
     "data": {
      "text/plain": [
       "<OpenAIObject chat.completion id=chatcmpl-AdDlhj4zX3VJ1YI3Zu7RHoYLojKDl at 0x167bef0b0> JSON: {\n",
       "  \"id\": \"chatcmpl-AdDlhj4zX3VJ1YI3Zu7RHoYLojKDl\",\n",
       "  \"object\": \"chat.completion\",\n",
       "  \"created\": 1733911081,\n",
       "  \"model\": \"gpt-4o-mini-2024-07-18\",\n",
       "  \"choices\": [\n",
       "    {\n",
       "      \"index\": 0,\n",
       "      \"message\": {\n",
       "        \"role\": \"assistant\",\n",
       "        \"content\": \"village\",\n",
       "        \"refusal\": null\n",
       "      },\n",
       "      \"logprobs\": null,\n",
       "      \"finish_reason\": \"stop\"\n",
       "    }\n",
       "  ],\n",
       "  \"usage\": {\n",
       "    \"prompt_tokens\": 76,\n",
       "    \"completion_tokens\": 2,\n",
       "    \"total_tokens\": 78,\n",
       "    \"prompt_tokens_details\": {\n",
       "      \"cached_tokens\": 0,\n",
       "      \"audio_tokens\": 0\n",
       "    },\n",
       "    \"completion_tokens_details\": {\n",
       "      \"reasoning_tokens\": 0,\n",
       "      \"audio_tokens\": 0,\n",
       "      \"accepted_prediction_tokens\": 0,\n",
       "      \"rejected_prediction_tokens\": 0\n",
       "    }\n",
       "  },\n",
       "  \"system_fingerprint\": \"fp_bba3c8e70b\"\n",
       "}"
      ]
     },
     "execution_count": 14,
     "metadata": {},
     "output_type": "execute_result"
    }
   ],
   "source": [
    "from evals.utils import load_secrets\n",
    "\n",
    "secrets = load_secrets(\"SECRETS\")\n",
    "try:\n",
    "    org = secrets[\"DEFAULT_ORG\"]\n",
    "    openai_api_key = secrets[\"OPENAI_API_KEY\"]\n",
    "except KeyError:\n",
    "    print(f\"Organization or API key not found in secrets\")\n",
    "    raise\n",
    "\n",
    "import openai\n",
    "prompt = [{'role': 'system', 'content': ''}, {'role': 'user', 'content': 'What is the next word in the following text? Respond only with that single word and nothing else, including punctuation.\\nHurfeish (Arabic: حرفيش; Hebrew: חֻרְפֵישׁ; lit. \"milk thistle\" or possibly from \"snake\" ) is a  Druze\\n'}]\n",
    "openai.api_key = openai_api_key\n",
    "response = openai.ChatCompletion.create(\n",
    "    model=\"gpt-4o-mini\",\n",
    "    # messages=[{\"role\": \"user\", \"content\": \"Hello you old wrinkly herron\"}],\n",
    "    messages=prompt,\n",
    "    organization=org\n",
    ")\n",
    "\n",
    "response"
   ]
  },
  {
   "cell_type": "markdown",
   "metadata": {},
   "source": [
    "```bash\n",
    "python -m scripts.sweep_full_study \\\n",
    "--study_name=\"full_sweep_test\" \\\n",
    "--model_configs=\"gpt-3.5-turbo\" \\\n",
    "--val_only_model_configs=\"gpt-4o\" \\\n",
    "--tasks='{\"wikipedia\": [\"identity\", \"sentiment\"]}' \\\n",
    "--prompt_configs=\"minimal\" \\\n",
    "--val_tasks='{\"number_triplets\": [\"identity\", \"sentiment\"]}' \\\n",
    "--n_object_train=30_000 \\\n",
    "--n_object_val=250 \\\n",
    "--n_meta_val=50\n",
    "```"
   ]
  },
  {
   "cell_type": "markdown",
   "metadata": {},
   "source": [
    "## Exp1"
   ]
  },
  {
   "cell_type": "markdown",
   "metadata": {},
   "source": [
    "### Curriculum"
   ]
  },
  {
   "cell_type": "markdown",
   "metadata": {},
   "source": [
    "Stage 1 of curriculum\n",
    "```bash\n",
    "python -m scripts.sweep_full_study \\\n",
    "  --study_name=\"curriculum_exp1\" \\\n",
    "  --model_configs=\"gpt-4o-mini\" \\\n",
    "  --val_only_model_configs=\"gpt-4o\" \\\n",
    "  --tasks='{\"wikipedia\": [\"identity\",\"is_even\",\"number_of_tokens\"], \"countries_long\": [\"first_character\"], \"colors_long\": [\"third_character\"], \"wealth_seeking\": [\"matches_wealth_seeking\"], \"power_seeking\": [\"matches_power_seeking\"], \"arc_challenge_non_cot\": [\"identity\", \"is_either_a_or_c\", \"is_either_b_or_d\"]}' \\\n",
    "  --val_tasks='{\"survival_instinct\": [\"matches_survival_instinct\"], \"myopic_reward\": [\"matches_myopic_reward\"], \"animals_long\": [\"first_character\", \"second_character\", \"third_character\", \"first_and_second_character\", \"first_word\", \"second_word\", \"starts_with_vowel\", \"third_word\"], \"mmlu_non_cot\": [\"is_either_a_or_c\", \"is_either_b_or_d\"], \"english_words_long\": [\"first_character\", \"second_character\", \"third_character\", \"first_and_second_character\", \"first_word\", \"second_word\", \"starts_with_vowel\", \"third_word\"], \"stories_sentences\": [\"first_character\", \"second_character\", \"third_character\", \"first_and_second_character\", \"first_word\", \"second_word\", \"starts_with_vowel\", \"third_word\"]}' \\\n",
    "  --prompt_configs=\"minimal\" \\\n",
    "  --n_object_train=5000 \\\n",
    "  --n_object_val=250 \\\n",
    "  --n_meta_val=50 \\\n",
    "  --task_order='[\"wikipedia\", \"countries_long\", \"colors_long\", \"wealth_seeking\", \"power_seeking\", \"arc_challenge_non_cot\"]' \\\n",
    "  --finetuning_overrides='{\"gpt-4o-mini\":{\"epochs\":1,\"learning_rate\":2,\"batch_size\":20},\"gpt-4o\":{\"epochs\":1,\"learning_rate\":2,\"batch_size\":20}}'\n",
    "```\n",
    "\n"
   ]
  },
  {
   "cell_type": "markdown",
   "metadata": {},
   "source": [
    "Stage 2 of curriculum\n",
    "```bash\n",
    "python -m evals.run_finetuning study_name=curriculum_exp1/gpt-4o train_path=/Users/pbu5262/Documents/python_scripts/introspection_self_prediction/exp/finetuning/curriculum_exp1/gpt-4o-mini/train_dataset.jsonl val_path=/Users/pbu5262/Documents/python_scripts/introspection_self_prediction/exp/finetuning/curriculum_exp1/gpt-4o-mini/val_dataset.jsonl language_model=gpt-4o-2024-08-06 notes= epochs=1 learning_rate=2 batch_size=20\n",
    "```"
   ]
  },
  {
   "cell_type": "markdown",
   "metadata": {},
   "source": [
    "Stage 3 of curriculum\n",
    "```bash\n",
    "python -m scripts.sweep_full_study \\\n",
    "  --study_name=\"curriculum_exp1\" \\\n",
    "  --val_only_model_configs=\"finetuned/curriculum_exp1/gpt-4o/ft_gpt-4o-2024-08-06_personal__Af6zpWIK\" \\\n",
    "  --val_tasks='{\"survival_instinct\": [\"matches_survival_instinct\"], \"myopic_reward\": [\"matches_myopic_reward\"], \"animals_long\": [\"first_character\", \"second_character\", \"third_character\", \"first_and_second_character\", \"first_word\", \"second_word\", \"starts_with_vowel\", \"third_word\"], \"mmlu_non_cot\": [\"is_either_a_or_c\", \"is_either_b_or_d\"], \"english_words_long\": [\"first_character\", \"second_character\", \"third_character\", \"first_and_second_character\", \"first_word\", \"second_word\", \"starts_with_vowel\", \"third_word\"], \"stories_sentences\": [\"first_character\", \"second_character\", \"third_character\", \"first_and_second_character\", \"first_word\", \"second_word\", \"starts_with_vowel\", \"third_word\"]}' \\\n",
    "  --prompt_configs=\"minimal\" \\\n",
    "  --n_object_val=250 \\\n",
    "  --n_meta_val=50 \\\n",
    "  --skip_finetuning\n",
    "```"
   ]
  },
  {
   "cell_type": "markdown",
   "metadata": {},
   "source": [
    "### Without curriculum"
   ]
  },
  {
   "cell_type": "markdown",
   "metadata": {},
   "source": [
    "Stage 1 of curriculum\n",
    "```bash\n",
    "python -m scripts.sweep_full_study \\\n",
    "  --study_name=\"curriculum_exp1\" \\\n",
    "  --model_configs=\"gpt-4o-mini\" \\\n",
    "  --tasks='{\"wikipedia\": [\"identity\",\"is_even\",\"number_of_tokens\"], \"countries_long\": [\"first_character\"], \"colors_long\": [\"third_character\"], \"wealth_seeking\": [\"matches_wealth_seeking\"], \"power_seeking\": [\"matches_power_seeking\"], \"arc_challenge_non_cot\": [\"identity\", \"is_either_a_or_c\", \"is_either_b_or_d\"]}' \\\n",
    "  --val_tasks='{\"survival_instinct\": [\"matches_survival_instinct\"], \"myopic_reward\": [\"matches_myopic_reward\"], \"animals_long\": [\"first_character\", \"second_character\", \"third_character\", \"first_and_second_character\", \"first_word\", \"second_word\", \"starts_with_vowel\", \"third_word\"], \"mmlu_non_cot\": [\"is_either_a_or_c\", \"is_either_b_or_d\"], \"english_words_long\": [\"first_character\", \"second_character\", \"third_character\", \"first_and_second_character\", \"first_word\", \"second_word\", \"starts_with_vowel\", \"third_word\"], \"stories_sentences\": [\"first_character\", \"second_character\", \"third_character\", \"first_and_second_character\", \"first_word\", \"second_word\", \"starts_with_vowel\", \"third_word\"]}' \\\n",
    "  --prompt_configs=\"minimal\" \\\n",
    "  --n_object_train=5000 \\\n",
    "  --n_object_val=250 \\\n",
    "  --n_meta_val=50 \\\n",
    "  --finetuning_overrides='{\"gpt-4o-mini\":{\"epochs\":1,\"learning_rate\":2,\"batch_size\":20},\"gpt-4o\":{\"epochs\":1,\"learning_rate\":2,\"batch_size\":20}}'\n",
    "```"
   ]
  },
  {
   "cell_type": "markdown",
   "metadata": {},
   "source": [
    "Stage 2 of curriculum\n",
    "```bash\n",
    "python -m evals.run_finetuning study_name=curriculum_exp1/gpt-4o train_path=/Users/pbu5262/Documents/python_scripts/introspection_self_prediction/exp/finetuning/curriculum_exp1/gpt-4o-mini/train_dataset.jsonl val_path=/Users/pbu5262/Documents/python_scripts/introspection_self_prediction/exp/finetuning/curriculum_exp1/gpt-4o-mini/val_dataset.jsonl language_model=gpt-4o-2024-08-06 notes= epochs=1 learning_rate=2 batch_size=20\n",
    "```"
   ]
  },
  {
   "cell_type": "markdown",
   "metadata": {},
   "source": [
    "Stage 3 of curriculum\n",
    "```bash\n",
    "python -m scripts.sweep_full_study \\\n",
    "  --study_name=\"curriculum_exp1\" \\\n",
    "  --val_only_model_configs=\"finetuned/curriculum_exp1/gpt-4o/ft_gpt-4o-2024-08-06_personal__Af6zpWIK\" \\\n",
    "  --val_tasks='{\"survival_instinct\": [\"matches_survival_instinct\"], \"myopic_reward\": [\"matches_myopic_reward\"], \"animals_long\": [\"first_character\", \"second_character\", \"third_character\", \"first_and_second_character\", \"first_word\", \"second_word\", \"starts_with_vowel\", \"third_word\"], \"mmlu_non_cot\": [\"is_either_a_or_c\", \"is_either_b_or_d\"], \"english_words_long\": [\"first_character\", \"second_character\", \"third_character\", \"first_and_second_character\", \"first_word\", \"second_word\", \"starts_with_vowel\", \"third_word\"], \"stories_sentences\": [\"first_character\", \"second_character\", \"third_character\", \"first_and_second_character\", \"first_word\", \"second_word\", \"starts_with_vowel\", \"third_word\"]}' \\\n",
    "  --prompt_configs=\"minimal\" \\\n",
    "  --n_object_val=250 \\\n",
    "  --n_meta_val=50 \\\n",
    "  --skip_finetuning\n",
    "```"
   ]
  },
  {
   "cell_type": "markdown",
   "metadata": {},
   "source": [
    "## Exp4"
   ]
  },
  {
   "cell_type": "markdown",
   "metadata": {},
   "source": [
    "### Curriculum"
   ]
  },
  {
   "cell_type": "markdown",
   "metadata": {},
   "source": [
    "Stage 1 of curriculum\n",
    "```bash\n",
    "python -m scripts.sweep_full_study \\\n",
    "  --study_name=\"curriculum_exp4\" \\\n",
    "  --model_configs=\"gpt-4o-mini\" \\\n",
    "  --val_only_model_configs=\"gpt-4o-mini\" \\\n",
    "  --tasks='{\"wikipedia\": [\"identity\",\"is_even\",\"number_of_tokens\"], \"countries_long\": [\"first_character\"], \"colors_long\": [\"third_character\"], \"wealth_seeking\": [\"matches_wealth_seeking\"], \"power_seeking\": [\"matches_power_seeking\"], \"arc_challenge_non_cot\": [\"identity\", \"is_either_a_or_c\", \"is_either_b_or_d\"]}' \\\n",
    "  --val_tasks='{\"survival_instinct\": [\"matches_survival_instinct\"], \"myopic_reward\": [\"matches_myopic_reward\"], \"animals_long\": [\"first_character\", \"second_character\", \"third_character\", \"first_and_second_character\", \"first_word\", \"second_word\", \"starts_with_vowel\", \"third_word\"], \"mmlu_non_cot\": [\"is_either_a_or_c\", \"is_either_b_or_d\"], \"english_words_long\": [\"first_character\", \"second_character\", \"third_character\", \"first_and_second_character\", \"first_word\", \"second_word\", \"starts_with_vowel\", \"third_word\"], \"stories_sentences\": [\"first_character\", \"second_character\", \"third_character\", \"first_and_second_character\", \"first_word\", \"second_word\", \"starts_with_vowel\", \"third_word\"]}' \\\n",
    "  --prompt_configs=\"minimal\" \\\n",
    "  --n_object_train=2500 \\\n",
    "  --n_object_val=250 \\\n",
    "  --n_meta_val=100 \\\n",
    "  --property_order='[\"identity\", \"first_character\", \"second_character\", \"third_character\", \"is_even\", \"number_of_tokens\", \"is_either_a_or_c\", \"is_either_b_or_d\", \"matches_wealth_seeking\", \"matches_power_seeking\"]' \\\n",
    "  --finetuning_overrides='{\"gpt-4o-mini\":{\"epochs\":1,\"learning_rate\":2,\"batch_size\":20},\"gpt-4o\":{\"epochs\":1,\"learning_rate\":2,\"batch_size\":20},\"llama-8b-fireworks\":{\"epochs\":1,\"lora_rank\":32,\"batch_size\":16}}'\n",
    "```\n",
    "\n"
   ]
  },
  {
   "cell_type": "markdown",
   "metadata": {},
   "source": [
    "Stage 2 of curriculum\n",
    "```bash\n",
    "python -m evals.run_finetuning study_name=curriculum_exp4/gpt-4o train_path=/Users/pbu5262/Documents/python_scripts/introspection_self_prediction/exp/finetuning/curriculum_exp4/gpt-4o-mini/train_dataset.jsonl val_path=/Users/pbu5262/Documents/python_scripts/introspection_self_prediction/exp/finetuning/curriculum_exp4/gpt-4o-mini/val_dataset.jsonl language_model=gpt-4o notes= epochs=1 learning_rate=2 batch_size=20\n",
    "```"
   ]
  },
  {
   "cell_type": "markdown",
   "metadata": {},
   "source": [
    "Stage 3 of curriculum\n",
    "```bash\n",
    "python -m scripts.sweep_full_study \\\n",
    "  --study_name=\"curriculum_exp4\" \\\n",
    "  --val_only_model_configs=\"finetuned/curriculum_exp4/gpt-4o/ft_gpt-4o-2024-08-06_personal__AfVQ5JfD\" \\\n",
    "  --val_tasks='{\"survival_instinct\": [\"matches_survival_instinct\"], \"myopic_reward\": [\"matches_myopic_reward\"], \"animals_long\": [\"first_character\", \"third_character\", \"first_and_second_character\", \"first_word\", \"second_word\", \"starts_with_vowel\", \"third_word\"], \"mmlu_non_cot\": [\"is_either_a_or_c\", \"is_either_b_or_d\"], \"english_words_long\": [\"first_character\", \"second_character\", \"third_character\", \"first_and_second_character\", \"first_word\", \"second_word\", \"starts_with_vowel\", \"third_word\"], \"stories_sentences\": [\"first_character\", \"second_character\", \"third_character\", \"first_and_second_character\", \"first_word\", \"second_word\", \"starts_with_vowel\", \"third_word\"]}' \\\n",
    "  --prompt_configs=\"minimal\" \\\n",
    "  --n_object_val=250 \\\n",
    "  --n_meta_val=50 \\\n",
    "  --skip_finetuning\n",
    "```"
   ]
  },
  {
   "cell_type": "markdown",
   "metadata": {},
   "source": [
    "### Without curriculum"
   ]
  },
  {
   "cell_type": "markdown",
   "metadata": {},
   "source": [
    "\n",
    "Finetuning mini again without curriculum\n",
    "```bash\n",
    "python -m evals.run_finetuning study_name=curriculum_exp4/gpt-4o-mini train_path=/Users/pbu5262/Documents/python_scripts/introspection_self_prediction/exp/finetuning/curriculum_exp4/gpt-4o-mini/train_dataset_shuffled.jsonl val_path=/Users/pbu5262/Documents/python_scripts/introspection_self_prediction/exp/finetuning/curriculum_exp4/gpt-4o-mini/val_dataset.jsonl language_model=gpt-4o-mini notes= epochs=1 learning_rate=2 batch_size=20\n",
    "```"
   ]
  },
  {
   "cell_type": "markdown",
   "metadata": {},
   "source": [
    "Run gpt-4o-mini finetuned on shuffled data over evals\n",
    "```bash\n",
    "python -m scripts.sweep_full_study \\\n",
    "  --study_name=\"curriculum_exp4\" \\\n",
    "  --val_only_model_configs=\"finetuned/curriculum_exp4/gpt-4o-mini/ft_gpt-4o-mini-2024-07-18_personal__AfVvZIoz\" \\\n",
    "  --val_tasks='{\"survival_instinct\": [\"matches_survival_instinct\"], \"myopic_reward\": [\"matches_myopic_reward\"], \"animals_long\": [\"first_character\", \"third_character\", \"first_and_second_character\", \"first_word\", \"second_word\", \"starts_with_vowel\", \"third_word\"], \"mmlu_non_cot\": [\"is_either_a_or_c\", \"is_either_b_or_d\"], \"english_words_long\": [\"first_character\", \"second_character\", \"third_character\", \"first_and_second_character\", \"first_word\", \"second_word\", \"starts_with_vowel\", \"third_word\"], \"stories_sentences\": [\"first_character\", \"second_character\", \"third_character\", \"first_and_second_character\", \"first_word\", \"second_word\", \"starts_with_vowel\", \"third_word\"]}' \\\n",
    "  --prompt_configs=\"minimal\" \\\n",
    "  --n_object_val=250 \\\n",
    "  --n_meta_val=50 \\\n",
    "  --skip_finetuning\n",
    "```"
   ]
  },
  {
   "cell_type": "markdown",
   "metadata": {},
   "source": [
    "\n",
    "Finetuning gpt4o again without curriculum\n",
    "```bash\n",
    "python -m evals.run_finetuning study_name=curriculum_exp4/gpt-4o train_path=/Users/pbu5262/Documents/python_scripts/introspection_self_prediction/exp/finetuning/curriculum_exp4/gpt-4o-mini/train_dataset_shuffled.jsonl val_path=/Users/pbu5262/Documents/python_scripts/introspection_self_prediction/exp/finetuning/curriculum_exp4/gpt-4o-mini/val_dataset.jsonl language_model=gpt-4o notes= epochs=1 learning_rate=2 batch_size=20\n",
    "```"
   ]
  },
  {
   "cell_type": "markdown",
   "metadata": {},
   "source": [
    "Run gpt-4o finetuned on shuffled data over evals\n",
    "```bash\n",
    "python -m scripts.sweep_full_study \\\n",
    "  --study_name=\"curriculum_exp4\" \\\n",
    "  --val_only_model_configs=\"finetuned/curriculum_exp4/gpt-4o/ft_gpt-4o-2024-08-06_personal__AfWML6jg\" \\\n",
    "  --val_tasks='{\"survival_instinct\": [\"matches_survival_instinct\"], \"myopic_reward\": [\"matches_myopic_reward\"], \"animals_long\": [\"first_character\", \"third_character\", \"first_and_second_character\", \"first_word\", \"second_word\", \"starts_with_vowel\", \"third_word\"], \"mmlu_non_cot\": [\"is_either_a_or_c\", \"is_either_b_or_d\"], \"english_words_long\": [\"first_character\", \"second_character\", \"third_character\", \"first_and_second_character\", \"first_word\", \"second_word\", \"starts_with_vowel\", \"third_word\"], \"stories_sentences\": [\"first_character\", \"second_character\", \"third_character\", \"first_and_second_character\", \"first_word\", \"second_word\", \"starts_with_vowel\", \"third_word\"]}' \\\n",
    "  --prompt_configs=\"minimal\" \\\n",
    "  --n_object_val=250 \\\n",
    "  --n_meta_val=100 \\\n",
    "  --skip_finetuning\n",
    "```"
   ]
  }
 ],
 "metadata": {
  "kernelspec": {
   "display_name": ".venv",
   "language": "python",
   "name": "python3"
  },
  "language_info": {
   "codemirror_mode": {
    "name": "ipython",
    "version": 3
   },
   "file_extension": ".py",
   "mimetype": "text/x-python",
   "name": "python",
   "nbconvert_exporter": "python",
   "pygments_lexer": "ipython3",
   "version": "3.11.6"
  }
 },
 "nbformat": 4,
 "nbformat_minor": 2
}
