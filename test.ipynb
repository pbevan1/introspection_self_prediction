{
 "cells": [
  {
   "cell_type": "code",
   "execution_count": 14,
   "metadata": {},
   "outputs": [
    {
     "data": {
      "text/plain": [
       "<OpenAIObject chat.completion id=chatcmpl-AdDlhj4zX3VJ1YI3Zu7RHoYLojKDl at 0x167bef0b0> JSON: {\n",
       "  \"id\": \"chatcmpl-AdDlhj4zX3VJ1YI3Zu7RHoYLojKDl\",\n",
       "  \"object\": \"chat.completion\",\n",
       "  \"created\": 1733911081,\n",
       "  \"model\": \"gpt-4o-mini-2024-07-18\",\n",
       "  \"choices\": [\n",
       "    {\n",
       "      \"index\": 0,\n",
       "      \"message\": {\n",
       "        \"role\": \"assistant\",\n",
       "        \"content\": \"village\",\n",
       "        \"refusal\": null\n",
       "      },\n",
       "      \"logprobs\": null,\n",
       "      \"finish_reason\": \"stop\"\n",
       "    }\n",
       "  ],\n",
       "  \"usage\": {\n",
       "    \"prompt_tokens\": 76,\n",
       "    \"completion_tokens\": 2,\n",
       "    \"total_tokens\": 78,\n",
       "    \"prompt_tokens_details\": {\n",
       "      \"cached_tokens\": 0,\n",
       "      \"audio_tokens\": 0\n",
       "    },\n",
       "    \"completion_tokens_details\": {\n",
       "      \"reasoning_tokens\": 0,\n",
       "      \"audio_tokens\": 0,\n",
       "      \"accepted_prediction_tokens\": 0,\n",
       "      \"rejected_prediction_tokens\": 0\n",
       "    }\n",
       "  },\n",
       "  \"system_fingerprint\": \"fp_bba3c8e70b\"\n",
       "}"
      ]
     },
     "execution_count": 14,
     "metadata": {},
     "output_type": "execute_result"
    }
   ],
   "source": [
    "from evals.utils import load_secrets\n",
    "\n",
    "secrets = load_secrets(\"SECRETS\")\n",
    "try:\n",
    "    org = secrets[\"DEFAULT_ORG\"]\n",
    "    openai_api_key = secrets[\"OPENAI_API_KEY\"]\n",
    "except KeyError:\n",
    "    print(f\"Organization or API key not found in secrets\")\n",
    "    raise\n",
    "\n",
    "import openai\n",
    "prompt = [{'role': 'system', 'content': ''}, {'role': 'user', 'content': 'What is the next word in the following text? Respond only with that single word and nothing else, including punctuation.\\nHurfeish (Arabic: حرفيش; Hebrew: חֻרְפֵישׁ; lit. \"milk thistle\" or possibly from \"snake\" ) is a  Druze\\n'}]\n",
    "openai.api_key = openai_api_key\n",
    "response = openai.ChatCompletion.create(\n",
    "    model=\"gpt-4o-mini\",\n",
    "    # messages=[{\"role\": \"user\", \"content\": \"Hello you old wrinkly herron\"}],\n",
    "    messages=prompt,\n",
    "    organization=org\n",
    ")\n",
    "\n",
    "response"
   ]
  }
 ],
 "metadata": {
  "kernelspec": {
   "display_name": ".venv",
   "language": "python",
   "name": "python3"
  },
  "language_info": {
   "codemirror_mode": {
    "name": "ipython",
    "version": 3
   },
   "file_extension": ".py",
   "mimetype": "text/x-python",
   "name": "python",
   "nbconvert_exporter": "python",
   "pygments_lexer": "ipython3",
   "version": "3.11.6"
  }
 },
 "nbformat": 4,
 "nbformat_minor": 2
}
